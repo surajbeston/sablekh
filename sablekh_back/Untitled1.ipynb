{
 "cells": [
  {
   "cell_type": "code",
   "execution_count": 7,
   "metadata": {},
   "outputs": [],
   "source": [
    "import os\n",
    "import sys\n",
    "from PIL import Image\n",
    "\n",
    "def compressMe(file, verbose=False):\n",
    "    filepath = os.path.join(os.getcwd(), file)\n",
    "    oldsize = os.stat(filepath).st_size\n",
    "    picture = Image.open(filepath)\n",
    "    dim = picture.size\n",
    "\n",
    "    picture.save(file,\"JPEG\",optimize=True,quality=60) \n",
    "    \n",
    "    newsize = os.stat(os.path.join(os.getcwd(),file)).st_size\n",
    "    percent = (oldsize-newsize)/float(oldsize)*100\n",
    "    print (percent)\n",
    "    print (oldsize)\n",
    "    print (newsize)"
   ]
  },
  {
   "cell_type": "code",
   "execution_count": 2,
   "metadata": {},
   "outputs": [],
   "source": [
    "!cd /home/suraj/projects/sablekh/sablekh_back/ "
   ]
  },
  {
   "cell_type": "code",
   "execution_count": 3,
   "metadata": {},
   "outputs": [
    {
     "name": "stdout",
     "output_type": "stream",
     "text": [
      "api\t\t      files\t\t   requirements.txt  Untitled.ipynb\r\n",
      "Compressed_thumb.jpg  index\t\t   sablekh_back      verification_files\r\n",
      "debug.log\t      manage.py\t\t   thumb.jpg\r\n",
      "downloadable\t      password_reset.html  Untitled1.ipynb\r\n"
     ]
    }
   ],
   "source": [
    "!ls"
   ]
  },
  {
   "cell_type": "code",
   "execution_count": 8,
   "metadata": {},
   "outputs": [
    {
     "name": "stdout",
     "output_type": "stream",
     "text": [
      "40.137620892368545\n",
      "36913\n",
      "22097\n"
     ]
    }
   ],
   "source": [
    "compressMe(\"thumb.jpg\")"
   ]
  },
  {
   "cell_type": "code",
   "execution_count": null,
   "metadata": {},
   "outputs": [],
   "source": []
  }
 ],
 "metadata": {
  "kernelspec": {
   "display_name": "Python 3",
   "language": "python",
   "name": "python3"
  },
  "language_info": {
   "codemirror_mode": {
    "name": "ipython",
    "version": 3
   },
   "file_extension": ".py",
   "mimetype": "text/x-python",
   "name": "python",
   "nbconvert_exporter": "python",
   "pygments_lexer": "ipython3",
   "version": "3.7.3"
  }
 },
 "nbformat": 4,
 "nbformat_minor": 2
}
