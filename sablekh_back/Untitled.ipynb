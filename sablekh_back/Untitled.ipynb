{
 "cells": [
  {
   "cell_type": "code",
   "execution_count": 56,
   "metadata": {},
   "outputs": [],
   "source": [
    "import requests\n",
    "file = open(\"/home/suraj/projects/sablekh/sablekh_back/verification.html\", encoding='cp1252')\n",
    "html = file.read()"
   ]
  },
  {
   "cell_type": "code",
   "execution_count": 58,
   "metadata": {},
   "outputs": [],
   "source": [
    "def send_simple_message():\n",
    "    return requests.post(\n",
    "        \"https://api.mailgun.net/v3/sablekh.com/messages\",\n",
    "        auth=(\"api\", \"f746c538cfc2aa48e43c3ae39bddb827-f7d0b107-ca20f738\"),\n",
    "        data={\"from\": \"Excited User <noreply@sablekh.com>\",\n",
    "              \"to\": [\"surajbeston@gmail.com\", \"suraj@sablekh.com\"],\n",
    "              \"subject\": \"Hello\",\n",
    "              \"text\": \"Testing some awesomness!\",\n",
    "             \"html\": html})"
   ]
  },
  {
   "cell_type": "code",
   "execution_count": 59,
   "metadata": {},
   "outputs": [],
   "source": [
    "a = send_simple_message()"
   ]
  },
  {
   "cell_type": "code",
   "execution_count": 60,
   "metadata": {},
   "outputs": [
    {
     "data": {
      "text/plain": [
       "'{\\n  \"id\": \"<20200806165331.1.95776E96150DE5B2@sablekh.com>\",\\n  \"message\": \"Queued. Thank you.\"\\n}'"
      ]
     },
     "execution_count": 60,
     "metadata": {},
     "output_type": "execute_result"
    }
   ],
   "source": [
    "a.text"
   ]
  },
  {
   "cell_type": "code",
   "execution_count": 57,
   "metadata": {},
   "outputs": [
    {
     "data": {
      "text/plain": [
       "'\\n<!-- saved from url=(0067)file:///home/suraj/projects/sablekh/sablekh_back/verificationn.html -->\\n<html><head><meta http-equiv=\"Content-Type\" content=\"text/html; charset=windows-1252\">\\n        <link href=\"./verification_files/css2\" rel=\"stylesheet\">\\n    </head>\\n    <body>\\n        <div style=\"margin: 10%; background-color: rgb(254, 227, 200);\">\\n            <div style=\"background-color: rgb(255, 176, 98); font-family: &#39;Staatliches&#39;, cursive;\\n            letter-spacing: 5px; text-align: center; font-size: 400%; \">Sablekh</div>\\n            <div style=\"border: 2px solid rgb(51, 47, 43);\">\\n                <div>\\n                    <a href=\"https://sablekh.com/\" target=\"_blank\"><img src=\"./verification_files/logo1.png\" style=\"width: 15%; position: relative; left: 45%;\"></a>\\n                    <div style=\"margin: 5% 10% 5% 10%;\"> <h2 style=\"font-family: &#39;Rajdhani&#39;, sans-serif; font-size: 200%; text-align: center;\"> Click on the button to verify this email for Sablekh. </h2></div>\\n                    <a href=\"file:///home/suraj/projects/sablekh/sablekh_back/verificationn.html#\" style=\"text-decoration: none; outline: none;\" target=\"_blank\"></a><button style=\"position: relative; left: 40%; background-color: rgb(255, 176, 98); font-weight: bold; font-size: 200%; letter-spacing: 1px; border-radius: 5px; font-family: &#39;Rajdhani&#39;, sans-serif; padding: 1% 2% 1% 2%; border-radius: 10px;\">Verify Email</button>\\n                </div>\\n\\n                <p style=\"margin: 5% 5% 2% 5%; font-family: &#39;Comfortaa&#39;, cursive; text-align: center;\">*Please ignore this email if you are not associated with this.</p>\\n                <p style=\"margin: 0 5% 5% 5%; font-family: &#39;Comfortaa&#39;, cursive; text-align: center;\">Copyright © 2020</p>\\n            </div>\\n        </div>\\n    \\n</body></html>'"
      ]
     },
     "execution_count": 57,
     "metadata": {},
     "output_type": "execute_result"
    }
   ],
   "source": [
    "html"
   ]
  },
  {
   "cell_type": "code",
   "execution_count": 61,
   "metadata": {},
   "outputs": [],
   "source": [
    "from bs4 import BeautifulSoup"
   ]
  },
  {
   "cell_type": "code",
   "execution_count": 67,
   "metadata": {},
   "outputs": [],
   "source": [
    "file = open(\"/home/suraj/projects/sablekh/sablekh_back/verificationn.html\")\n",
    "html = file.read()\n",
    "soup = BeautifulSoup(html, 'html.parser')"
   ]
  },
  {
   "cell_type": "code",
   "execution_count": 74,
   "metadata": {},
   "outputs": [],
   "source": [
    "soup.select(\"#text\")[0].string = \"http://google.com\""
   ]
  },
  {
   "cell_type": "code",
   "execution_count": 75,
   "metadata": {},
   "outputs": [
    {
     "data": {
      "text/plain": [
       "<html>\n",
       "<body>\n",
       "<div style=\"margin: 10%; background-color: rgb(254, 227, 200);\">\n",
       "<div style=\"background-color: rgb(255, 176, 98); text-align: center; font-size: 300%; font-family: Didot, serif;\">Sablekh</div>\n",
       "<div style=\"border: 2px solid rgb(51, 47, 43);\">\n",
       "<div>\n",
       "<div style=\"margin: 5% 10% 5% 10%;\"> <h2 style=\"font-family: Didot, serif; font-size: 150%; text-align: center;\"> Click on the button to verify this email address for Sablekh. </h2></div>\n",
       "<a href=\"https://mugi.com\" target=\"_blank\"><p id=\"text\" style=\"margin: 5% 5% 2% 5%; font-family: Avantgarde, TeX Gyre Adventor, URW Gothic L, sans-serif; text-align: center; font-size: 150%;\">http://google.com</p></a>\n",
       "</div>\n",
       "<p style=\"margin: 5% 5% 2% 5%; font-family: Avantgarde, TeX Gyre Adventor, URW Gothic L, sans-serif; text-align: center;\">*Please ignore this email if you are not associated with this.</p>\n",
       "<p style=\"margin: 0 5% 5% 5%;  text-align: center;\">Copyright © 2020</p>\n",
       "</div>\n",
       "</div>\n",
       "</body>\n",
       "</html>"
      ]
     },
     "execution_count": 75,
     "metadata": {},
     "output_type": "execute_result"
    }
   ],
   "source": [
    "soup"
   ]
  },
  {
   "cell_type": "code",
   "execution_count": 76,
   "metadata": {},
   "outputs": [
    {
     "data": {
      "text/plain": [
       "'<html>\\n<body>\\n<div style=\"margin: 10%; background-color: rgb(254, 227, 200);\">\\n<div style=\"background-color: rgb(255, 176, 98); text-align: center; font-size: 300%; font-family: Didot, serif;\">Sablekh</div>\\n<div style=\"border: 2px solid rgb(51, 47, 43);\">\\n<div>\\n<div style=\"margin: 5% 10% 5% 10%;\"> <h2 style=\"font-family: Didot, serif; font-size: 150%; text-align: center;\"> Click on the button to verify this email address for Sablekh. </h2></div>\\n<a href=\"https://mugi.com\" target=\"_blank\"><p id=\"text\" style=\"margin: 5% 5% 2% 5%; font-family: Avantgarde, TeX Gyre Adventor, URW Gothic L, sans-serif; text-align: center; font-size: 150%;\">http://google.com</p></a>\\n</div>\\n<p style=\"margin: 5% 5% 2% 5%; font-family: Avantgarde, TeX Gyre Adventor, URW Gothic L, sans-serif; text-align: center;\">*Please ignore this email if you are not associated with this.</p>\\n<p style=\"margin: 0 5% 5% 5%;  text-align: center;\">Copyright © 2020</p>\\n</div>\\n</div>\\n</body>\\n</html>\\n'"
      ]
     },
     "execution_count": 76,
     "metadata": {},
     "output_type": "execute_result"
    }
   ],
   "source": [
    "str(soup)"
   ]
  },
  {
   "cell_type": "code",
   "execution_count": 77,
   "metadata": {},
   "outputs": [],
   "source": [
    "import datetime "
   ]
  },
  {
   "cell_type": "code",
   "execution_count": 78,
   "metadata": {},
   "outputs": [],
   "source": [
    "a= datetime.datetime.now()"
   ]
  },
  {
   "cell_type": "code",
   "execution_count": 82,
   "metadata": {},
   "outputs": [
    {
     "data": {
      "text/plain": [
       "datetime.timedelta(seconds=70, microseconds=364600)"
      ]
     },
     "execution_count": 82,
     "metadata": {},
     "output_type": "execute_result"
    }
   ],
   "source": [
    "datetime.datetime.now() - a < datime"
   ]
  },
  {
   "cell_type": "code",
   "execution_count": null,
   "metadata": {},
   "outputs": [],
   "source": []
  }
 ],
 "metadata": {
  "kernelspec": {
   "display_name": "Python 3",
   "language": "python",
   "name": "python3"
  },
  "language_info": {
   "codemirror_mode": {
    "name": "ipython",
    "version": 3
   },
   "file_extension": ".py",
   "mimetype": "text/x-python",
   "name": "python",
   "nbconvert_exporter": "python",
   "pygments_lexer": "ipython3",
   "version": "3.7.3"
  }
 },
 "nbformat": 4,
 "nbformat_minor": 2
}
